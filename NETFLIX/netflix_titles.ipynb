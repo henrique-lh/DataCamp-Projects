{
 "cells": [
  {
   "cell_type": "markdown",
   "metadata": {},
   "source": [
    "# 1- Títulos da Netflix\n",
    "<p>A netflix é um serviço de streaming criado em 1997, com o intítuito de distribuir filmes e séries. Atualmente a netflix é o maior serviço de streaming do mundo, atingindo cerca de 190 países. O conjunto de dados de dados é referente aos filmes e séries diponíveis referentes ao ano de 2019.</p>\n",
    "<center>\n",
    "<img src=\"https://external-content.duckduckgo.com/iu/?u=https%3A%2F%2Ftse2.mm.bing.net%2Fth%3Fid%3DOIP.d9_If2rqQyIKamj4UyskuAHaEK%26pid%3DApi&f=1\">\n",
    "</center>\n",
    "<p>As seguintes variáveis são consideradas:</p>\n",
    "<div style=\"background-color: #efebe4; color: #05192d; text-align:left; vertical-align: middle; padding: 15px 25px 15px 25px; line-height: 1.6;\">\n",
    "<ul>\n",
    "   <li><b>type</b>: Podemos dois tipos de títulos: filmes ou um show de televisão (séries, documentários...</li>\n",
    "\n",
    "   <li><b>title</b>: Nome do título disponível</li>\n",
    "\n",
    "   <li><b>cast</b>: Elenco que compôs o determinado título</li>\n",
    "\n",
    "   <li><b>country</b>: País em que foi feito o programa</li>\n",
    "\n",
    "   <li><b>date_added</b>: Ano em que o show foi adicionado no Netflix</li>\n",
    "    \n",
    "   <li><b>release_year</b>: Ano em que o show foi lançado propriamente</li>\n",
    "\n",
    "   <li><b>rating</b>: Classificação indicativa</li>\n",
    "\n",
    "<li><b>duration</b>: A duração de um determinado show. Pode ser medido em quantidade de temporadas ou em minutos</li>\n",
    "\n",
    "<li><b>listed_in</b>: Categoria em que foi classificado um determinado show: comédia, drama, suspense...</li>\n",
    "\n",
    "<li><b>description</b>: Um pequeno resumo a respeito do show</li>\n",
    "    \n",
    "    \n",
    "</ul>\n",
    "</div>"
   ]
  },
  {
   "cell_type": "code",
   "execution_count": 1,
   "metadata": {},
   "outputs": [],
   "source": [
    "import pandas as pd\n",
    "import numpy as np\n",
    "import matplotlib.pyplot as plt\n",
    "import seaborn as sns"
   ]
  },
  {
   "cell_type": "code",
   "execution_count": 2,
   "metadata": {},
   "outputs": [
    {
     "data": {
      "text/html": [
       "<div>\n",
       "<style scoped>\n",
       "    .dataframe tbody tr th:only-of-type {\n",
       "        vertical-align: middle;\n",
       "    }\n",
       "\n",
       "    .dataframe tbody tr th {\n",
       "        vertical-align: top;\n",
       "    }\n",
       "\n",
       "    .dataframe thead th {\n",
       "        text-align: right;\n",
       "    }\n",
       "</style>\n",
       "<table border=\"1\" class=\"dataframe\">\n",
       "  <thead>\n",
       "    <tr style=\"text-align: right;\">\n",
       "      <th></th>\n",
       "      <th>show_id</th>\n",
       "      <th>type</th>\n",
       "      <th>title</th>\n",
       "      <th>director</th>\n",
       "      <th>cast</th>\n",
       "      <th>country</th>\n",
       "      <th>date_added</th>\n",
       "      <th>release_year</th>\n",
       "      <th>rating</th>\n",
       "      <th>duration</th>\n",
       "      <th>listed_in</th>\n",
       "      <th>description</th>\n",
       "    </tr>\n",
       "  </thead>\n",
       "  <tbody>\n",
       "    <tr>\n",
       "      <th>0</th>\n",
       "      <td>s1</td>\n",
       "      <td>TV Show</td>\n",
       "      <td>3%</td>\n",
       "      <td>NaN</td>\n",
       "      <td>João Miguel, Bianca Comparato, Michel Gomes, R...</td>\n",
       "      <td>Brazil</td>\n",
       "      <td>2020-08-14</td>\n",
       "      <td>2020</td>\n",
       "      <td>TV-MA</td>\n",
       "      <td>4 Seasons</td>\n",
       "      <td>International TV Shows, TV Dramas, TV Sci-Fi &amp;...</td>\n",
       "      <td>In a future where the elite inhabit an island ...</td>\n",
       "    </tr>\n",
       "    <tr>\n",
       "      <th>1</th>\n",
       "      <td>s2</td>\n",
       "      <td>Movie</td>\n",
       "      <td>7:19</td>\n",
       "      <td>Jorge Michel Grau</td>\n",
       "      <td>Demián Bichir, Héctor Bonilla, Oscar Serrano, ...</td>\n",
       "      <td>Mexico</td>\n",
       "      <td>2016-12-23</td>\n",
       "      <td>2016</td>\n",
       "      <td>TV-MA</td>\n",
       "      <td>93 min</td>\n",
       "      <td>Dramas, International Movies</td>\n",
       "      <td>After a devastating earthquake hits Mexico Cit...</td>\n",
       "    </tr>\n",
       "    <tr>\n",
       "      <th>2</th>\n",
       "      <td>s3</td>\n",
       "      <td>Movie</td>\n",
       "      <td>23:59</td>\n",
       "      <td>Gilbert Chan</td>\n",
       "      <td>Tedd Chan, Stella Chung, Henley Hii, Lawrence ...</td>\n",
       "      <td>Singapore</td>\n",
       "      <td>2018-12-20</td>\n",
       "      <td>2011</td>\n",
       "      <td>R</td>\n",
       "      <td>78 min</td>\n",
       "      <td>Horror Movies, International Movies</td>\n",
       "      <td>When an army recruit is found dead, his fellow...</td>\n",
       "    </tr>\n",
       "    <tr>\n",
       "      <th>3</th>\n",
       "      <td>s4</td>\n",
       "      <td>Movie</td>\n",
       "      <td>9</td>\n",
       "      <td>Shane Acker</td>\n",
       "      <td>Elijah Wood, John C. Reilly, Jennifer Connelly...</td>\n",
       "      <td>United States</td>\n",
       "      <td>2017-11-16</td>\n",
       "      <td>2009</td>\n",
       "      <td>PG-13</td>\n",
       "      <td>80 min</td>\n",
       "      <td>Action &amp; Adventure, Independent Movies, Sci-Fi...</td>\n",
       "      <td>In a postapocalyptic world, rag-doll robots hi...</td>\n",
       "    </tr>\n",
       "    <tr>\n",
       "      <th>4</th>\n",
       "      <td>s5</td>\n",
       "      <td>Movie</td>\n",
       "      <td>21</td>\n",
       "      <td>Robert Luketic</td>\n",
       "      <td>Jim Sturgess, Kevin Spacey, Kate Bosworth, Aar...</td>\n",
       "      <td>United States</td>\n",
       "      <td>2020-01-01</td>\n",
       "      <td>2008</td>\n",
       "      <td>PG-13</td>\n",
       "      <td>123 min</td>\n",
       "      <td>Dramas</td>\n",
       "      <td>A brilliant group of students become card-coun...</td>\n",
       "    </tr>\n",
       "  </tbody>\n",
       "</table>\n",
       "</div>"
      ],
      "text/plain": [
       "  show_id     type  title           director  \\\n",
       "0      s1  TV Show     3%                NaN   \n",
       "1      s2    Movie   7:19  Jorge Michel Grau   \n",
       "2      s3    Movie  23:59       Gilbert Chan   \n",
       "3      s4    Movie      9        Shane Acker   \n",
       "4      s5    Movie     21     Robert Luketic   \n",
       "\n",
       "                                                cast        country  \\\n",
       "0  João Miguel, Bianca Comparato, Michel Gomes, R...         Brazil   \n",
       "1  Demián Bichir, Héctor Bonilla, Oscar Serrano, ...         Mexico   \n",
       "2  Tedd Chan, Stella Chung, Henley Hii, Lawrence ...      Singapore   \n",
       "3  Elijah Wood, John C. Reilly, Jennifer Connelly...  United States   \n",
       "4  Jim Sturgess, Kevin Spacey, Kate Bosworth, Aar...  United States   \n",
       "\n",
       "  date_added  release_year rating   duration  \\\n",
       "0 2020-08-14          2020  TV-MA  4 Seasons   \n",
       "1 2016-12-23          2016  TV-MA     93 min   \n",
       "2 2018-12-20          2011      R     78 min   \n",
       "3 2017-11-16          2009  PG-13     80 min   \n",
       "4 2020-01-01          2008  PG-13    123 min   \n",
       "\n",
       "                                           listed_in  \\\n",
       "0  International TV Shows, TV Dramas, TV Sci-Fi &...   \n",
       "1                       Dramas, International Movies   \n",
       "2                Horror Movies, International Movies   \n",
       "3  Action & Adventure, Independent Movies, Sci-Fi...   \n",
       "4                                             Dramas   \n",
       "\n",
       "                                         description  \n",
       "0  In a future where the elite inhabit an island ...  \n",
       "1  After a devastating earthquake hits Mexico Cit...  \n",
       "2  When an army recruit is found dead, his fellow...  \n",
       "3  In a postapocalyptic world, rag-doll robots hi...  \n",
       "4  A brilliant group of students become card-coun...  "
      ]
     },
     "execution_count": 2,
     "metadata": {},
     "output_type": "execute_result"
    }
   ],
   "source": [
    "netflix_df = pd.read_csv(\"netflix_titles.csv\")\n",
    "netflix_df[\"date_added\"] = netflix_df[\"date_added\"].astype(\"datetime64\")\n",
    "netflix_df.head()"
   ]
  },
  {
   "cell_type": "code",
   "execution_count": null,
   "metadata": {},
   "outputs": [],
   "source": [
    "netflix_df.info()"
   ]
  },
  {
   "cell_type": "markdown",
   "metadata": {},
   "source": [
    "## Quais o 5 filmes com maior duração?"
   ]
  },
  {
   "cell_type": "markdown",
   "metadata": {},
   "source": [
    "<h4>Primeiro selecionamos apenas os tipos de programas que são filmes</h4>"
   ]
  },
  {
   "cell_type": "code",
   "execution_count": 3,
   "metadata": {},
   "outputs": [],
   "source": [
    "pd.set_option('mode.chained_assignment', None)\n",
    "netflix_movies = netflix_df[netflix_df[\"type\"] == \"Movie\"]"
   ]
  },
  {
   "cell_type": "markdown",
   "metadata": {},
   "source": [
    "<h4>Após feita a retirada do subconjunto de filmes, podemos agora selecionar os 5 filmes com mais duração em minutos</h4>"
   ]
  },
  {
   "cell_type": "code",
   "execution_count": 4,
   "metadata": {},
   "outputs": [],
   "source": [
    "netflix_movies.loc[:, \"duration\"] = netflix_movies.loc[:, \"duration\"].apply(lambda x: int(x.replace(\"min\", \"\")))\n",
    "top_5_duration_movies = netflix_movies.nlargest(5, \"duration\").set_index(\"show_id\")"
   ]
  },
  {
   "cell_type": "markdown",
   "metadata": {},
   "source": [
    "<h4>Abaixo são exibidos os 5 filmes com mais duração, e na primeira posição temos Black Mirror: Bandersnatch. Muito provavelmente isso é devido ao fato deste ser o primeiro filme interativo presente no Netflix, o que faz com que o tempo do filme seja variado, tendo como tempo mínimo 40 minutos, média de 90 minutos, com 5 horas de material e com um total de 5 diferentes finais.</h4>\n",
    "\n",
    "<h4>Black Mirror: Bandersnatch é filme lançado em 2018 que conta a história de um adolescente que resolve fazer um jogo de computador baseado em livro que possui múltiplos finais, ao ponto que começa a se questionar sobre o que seria a realidade e se de fato está vivendo ela. O filme conta com um recurso inovador de que os usuários que assistem ao filme podem tomar decisões pelo protagonista de forma que essas decisões implicarão em diferentes finais.</h4>\n",
    "<center>\n",
    "   <img src=\"https://external-content.duckduckgo.com/iu/?u=https%3A%2F%2Fcdntr2.img.sputniknews.com%2Fimages%2F103685%2F72%2F1036857213.jpg&f=1&nofb=1\">\n",
    " </center>"
   ]
  },
  {
   "cell_type": "markdown",
   "metadata": {},
   "source": [
    "<h3>Lista dos filmes com maior duração</h3>"
   ]
  },
  {
   "cell_type": "code",
   "execution_count": 5,
   "metadata": {},
   "outputs": [
    {
     "data": {
      "text/html": [
       "<div>\n",
       "<style scoped>\n",
       "    .dataframe tbody tr th:only-of-type {\n",
       "        vertical-align: middle;\n",
       "    }\n",
       "\n",
       "    .dataframe tbody tr th {\n",
       "        vertical-align: top;\n",
       "    }\n",
       "\n",
       "    .dataframe thead th {\n",
       "        text-align: right;\n",
       "    }\n",
       "</style>\n",
       "<table border=\"1\" class=\"dataframe\">\n",
       "  <thead>\n",
       "    <tr style=\"text-align: right;\">\n",
       "      <th></th>\n",
       "      <th>title</th>\n",
       "      <th>duration</th>\n",
       "      <th>director</th>\n",
       "      <th>country</th>\n",
       "    </tr>\n",
       "    <tr>\n",
       "      <th>show_id</th>\n",
       "      <th></th>\n",
       "      <th></th>\n",
       "      <th></th>\n",
       "      <th></th>\n",
       "    </tr>\n",
       "  </thead>\n",
       "  <tbody>\n",
       "    <tr>\n",
       "      <th>s958</th>\n",
       "      <td>Black Mirror: Bandersnatch</td>\n",
       "      <td>312</td>\n",
       "      <td>NaN</td>\n",
       "      <td>United States</td>\n",
       "    </tr>\n",
       "    <tr>\n",
       "      <th>s6851</th>\n",
       "      <td>The School of Mischief</td>\n",
       "      <td>253</td>\n",
       "      <td>Houssam El-Din Mustafa</td>\n",
       "      <td>Egypt</td>\n",
       "    </tr>\n",
       "    <tr>\n",
       "      <th>s4491</th>\n",
       "      <td>No Longer kids</td>\n",
       "      <td>237</td>\n",
       "      <td>Samir Al Asfory</td>\n",
       "      <td>Egypt</td>\n",
       "    </tr>\n",
       "    <tr>\n",
       "      <th>s3695</th>\n",
       "      <td>Lock Your Girls In</td>\n",
       "      <td>233</td>\n",
       "      <td>Fouad El-Mohandes</td>\n",
       "      <td>NaN</td>\n",
       "    </tr>\n",
       "    <tr>\n",
       "      <th>s5109</th>\n",
       "      <td>Raya and Sakina</td>\n",
       "      <td>230</td>\n",
       "      <td>Hussein Kamal</td>\n",
       "      <td>NaN</td>\n",
       "    </tr>\n",
       "  </tbody>\n",
       "</table>\n",
       "</div>"
      ],
      "text/plain": [
       "                              title  duration                director  \\\n",
       "show_id                                                                 \n",
       "s958     Black Mirror: Bandersnatch       312                     NaN   \n",
       "s6851        The School of Mischief       253  Houssam El-Din Mustafa   \n",
       "s4491                No Longer kids       237         Samir Al Asfory   \n",
       "s3695            Lock Your Girls In       233       Fouad El-Mohandes   \n",
       "s5109               Raya and Sakina       230           Hussein Kamal   \n",
       "\n",
       "               country  \n",
       "show_id                 \n",
       "s958     United States  \n",
       "s6851            Egypt  \n",
       "s4491            Egypt  \n",
       "s3695              NaN  \n",
       "s5109              NaN  "
      ]
     },
     "execution_count": 5,
     "metadata": {},
     "output_type": "execute_result"
    }
   ],
   "source": [
    "top_5_duration_movies[[\"title\", \"duration\",\"director\",\"country\"]]"
   ]
  },
  {
   "cell_type": "markdown",
   "metadata": {},
   "source": [
    "## Quais os 5 filmes com maior descrição?\n",
    "\n",
    "<p>Aproveitando o data frame que criamos contendo apenas os filmes, criamos mais uma coluna contendo apenas a quantidade de caracteres para serem feitas a descrição dos filmes. Podemos ver que o número máximo de caracteres não chega a 250, e que filmes orientais lideram essa lista</p>"
   ]
  },
  {
   "cell_type": "code",
   "execution_count": 6,
   "metadata": {},
   "outputs": [
    {
     "data": {
      "text/html": [
       "<div>\n",
       "<style scoped>\n",
       "    .dataframe tbody tr th:only-of-type {\n",
       "        vertical-align: middle;\n",
       "    }\n",
       "\n",
       "    .dataframe tbody tr th {\n",
       "        vertical-align: top;\n",
       "    }\n",
       "\n",
       "    .dataframe thead th {\n",
       "        text-align: right;\n",
       "    }\n",
       "</style>\n",
       "<table border=\"1\" class=\"dataframe\">\n",
       "  <thead>\n",
       "    <tr style=\"text-align: right;\">\n",
       "      <th></th>\n",
       "      <th>title</th>\n",
       "      <th>country</th>\n",
       "      <th>description</th>\n",
       "      <th>lenght description</th>\n",
       "    </tr>\n",
       "  </thead>\n",
       "  <tbody>\n",
       "    <tr>\n",
       "      <th>926</th>\n",
       "      <td>Billu</td>\n",
       "      <td>India</td>\n",
       "      <td>An Indian village is abuzz with news that a ma...</td>\n",
       "      <td>248</td>\n",
       "    </tr>\n",
       "    <tr>\n",
       "      <th>4396</th>\n",
       "      <td>Namastey London</td>\n",
       "      <td>India</td>\n",
       "      <td>To her Indian parents' dismay, London-born Jas...</td>\n",
       "      <td>248</td>\n",
       "    </tr>\n",
       "    <tr>\n",
       "      <th>4675</th>\n",
       "      <td>Opium and the Kung Fu Master</td>\n",
       "      <td>Hong Kong</td>\n",
       "      <td>Leader of the Ten Kwangtung Tigers, Tieh Chiao...</td>\n",
       "      <td>246</td>\n",
       "    </tr>\n",
       "    <tr>\n",
       "      <th>6010</th>\n",
       "      <td>Teen Patti</td>\n",
       "      <td>India</td>\n",
       "      <td>Luck brings together math expert Perci Trachte...</td>\n",
       "      <td>246</td>\n",
       "    </tr>\n",
       "    <tr>\n",
       "      <th>709</th>\n",
       "      <td>Balto 2: Wolf Quest</td>\n",
       "      <td>United States</td>\n",
       "      <td>Half-dog, half-wolf Balto (voiced by Maurice L...</td>\n",
       "      <td>245</td>\n",
       "    </tr>\n",
       "  </tbody>\n",
       "</table>\n",
       "</div>"
      ],
      "text/plain": [
       "                             title        country  \\\n",
       "926                          Billu          India   \n",
       "4396               Namastey London          India   \n",
       "4675  Opium and the Kung Fu Master      Hong Kong   \n",
       "6010                    Teen Patti          India   \n",
       "709            Balto 2: Wolf Quest  United States   \n",
       "\n",
       "                                            description  lenght description  \n",
       "926   An Indian village is abuzz with news that a ma...                 248  \n",
       "4396  To her Indian parents' dismay, London-born Jas...                 248  \n",
       "4675  Leader of the Ten Kwangtung Tigers, Tieh Chiao...                 246  \n",
       "6010  Luck brings together math expert Perci Trachte...                 246  \n",
       "709   Half-dog, half-wolf Balto (voiced by Maurice L...                 245  "
      ]
     },
     "execution_count": 6,
     "metadata": {},
     "output_type": "execute_result"
    }
   ],
   "source": [
    "netflix_movies[\"lenght description\"] = netflix_movies[\"description\"].apply(len)\n",
    "top_5_len_description = netflix_movies.nlargest(5, \"lenght description\")\n",
    "top_5_len_description[[\"title\", \"country\", \"description\", \"lenght description\"]]"
   ]
  },
  {
   "cell_type": "markdown",
   "metadata": {},
   "source": [
    "## Quais são os 5 filmes com maior elenco?"
   ]
  },
  {
   "cell_type": "markdown",
   "metadata": {},
   "source": [
    "## Quantos programas estão disponíveis em cada país da America do Norte?"
   ]
  },
  {
   "cell_type": "code",
   "execution_count": null,
   "metadata": {},
   "outputs": [],
   "source": [
    "check_america_netflix = netflix_df[\"country\"].isin([\"United States\", \"Canada\", \"Mexico\"])\n",
    "north_am_netflix = netflix_df[check_america_netflix]\n",
    "north_am_netflix.head()"
   ]
  },
  {
   "cell_type": "code",
   "execution_count": null,
   "metadata": {},
   "outputs": [],
   "source": [
    "g = sns.countplot(x=\"country\", data=north_am_netflix)\n",
    "g.set_title(\"Qtd shows por países\")\n",
    "g.set_xlabel(\"Continentes\", labelpad=10)\n",
    "g.set_ylabel(\"Qtd de shows\", labelpad=14)\n",
    "plt.show()"
   ]
  },
  {
   "cell_type": "markdown",
   "metadata": {},
   "source": [
    "## Qual a quantidade de filmes e disponíveis nesses países?"
   ]
  },
  {
   "cell_type": "code",
   "execution_count": null,
   "metadata": {},
   "outputs": [],
   "source": [
    "sns.catplot(x=\"type\", data=north_am_netflix, kind=\"count\", col=\"country\")\n",
    "plt.show()"
   ]
  },
  {
   "cell_type": "markdown",
   "metadata": {},
   "source": [
    "## Quantos desses séries brasileiras estão disponíveis no netflix?\n",
    "<p>No Brasil, no ano de 2019, havia um total de 72 filmes/shows/séries brasileiros disponíveis</p>"
   ]
  },
  {
   "cell_type": "code",
   "execution_count": null,
   "metadata": {},
   "outputs": [],
   "source": [
    "br_netflix_br = netflix_df[netflix_df[\"country\"] == \"Brazil\"]"
   ]
  },
  {
   "cell_type": "code",
   "execution_count": null,
   "metadata": {},
   "outputs": [],
   "source": [
    "br_netflix_br = br_netflix_br.sort_values(\"date_added\")\n",
    "br_netflix_br.head()"
   ]
  },
  {
   "cell_type": "code",
   "execution_count": null,
   "metadata": {},
   "outputs": [],
   "source": [
    "print(br_netflix_br.shape)"
   ]
  },
  {
   "cell_type": "code",
   "execution_count": null,
   "metadata": {},
   "outputs": [],
   "source": [
    "br_netflix_br[\"rating\"].unique()"
   ]
  },
  {
   "cell_type": "code",
   "execution_count": null,
   "metadata": {},
   "outputs": [],
   "source": [
    "br_netflix_br[\"rating\"].value_counts()"
   ]
  },
  {
   "cell_type": "code",
   "execution_count": null,
   "metadata": {},
   "outputs": [],
   "source": [
    "sns.set_style(\"darkgrid\")\n",
    "sns.set_context(\"talk\")\n",
    "g = sns.countplot(x=\"rating\", data=br_netflix_br, order=[\"TV-MA\", \"TV-14\", \"TV-PG\", \"TV-Y\", \"TV-G\", \"PG\", \"NR\", \"PG-13\"])\n",
    "g.set_title(\"Classificação indicativa (padrão norte-americano)\")\n",
    "g.set_xlabel(\"Classificação\")\n",
    "g.set_ylabel(\"Qtd. filmes\")\n",
    "plt.xticks(rotation=90)\n",
    "plt.show()"
   ]
  },
  {
   "cell_type": "code",
   "execution_count": null,
   "metadata": {},
   "outputs": [],
   "source": [
    "br_netflix_br.head()"
   ]
  }
 ],
 "metadata": {
  "kernelspec": {
   "display_name": "Python 3",
   "language": "python",
   "name": "python3"
  },
  "language_info": {
   "codemirror_mode": {
    "name": "ipython",
    "version": 3
   },
   "file_extension": ".py",
   "mimetype": "text/x-python",
   "name": "python",
   "nbconvert_exporter": "python",
   "pygments_lexer": "ipython3",
   "version": "3.8.5"
  }
 },
 "nbformat": 4,
 "nbformat_minor": 4
}
